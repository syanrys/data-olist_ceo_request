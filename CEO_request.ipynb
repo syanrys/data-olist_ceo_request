{
 "cells": [
  {
   "cell_type": "markdown",
   "metadata": {
    "slideshow": {
     "slide_type": "skip"
    }
   },
   "source": [
    "# CEO-Request Challenge"
   ]
  },
  {
   "cell_type": "markdown",
   "metadata": {},
   "source": [
    "## 1. Summary of Problem Statement"
   ]
  },
  {
   "cell_type": "markdown",
   "metadata": {},
   "source": [
    "❓ **How could Olist improve its profit** ❓"
   ]
  },
  {
   "cell_type": "markdown",
   "metadata": {},
   "source": [
    "### P&L Rules"
   ]
  },
  {
   "cell_type": "markdown",
   "metadata": {},
   "source": [
    "#### Revenues  \n",
    "**Sales fees:** Olist takes a **10% cut** on the product price (excl. freight) of each order delivered  \n",
    "**Subscription fees:** Olist charges **80 BRL by month** per seller\n",
    "\n",
    "#### Costs\n",
    "_Estimated_ **reputation costs** of orders with bad reviews (<= 3 stars)  \n",
    "\n",
    "💡 In the long term, bad customer experience has business implications: low repeat rate, immediate customer support cost, refunds or unfavorable word of mouth communication. We make an assumption about the monetary cost for each bad review:\n",
    "\n",
    "```python\n",
    "# review_score: cost(BRL)\n",
    "{'1 star': 100\n",
    "'2 stars': 50\n",
    "'3 stars': 40\n",
    "'4 stars': 0\n",
    "'5 stars': 0}\n",
    "```\n",
    "\n",
    "**IT costs:** Olist's **total cumulated IT Costs** scale with the square root of the total number of sellers that have ever joined the platform, as well as with the square root of the total cumulated number of items that were ever sold.  \n",
    "\n",
    "$IT\\_costs = \\alpha * \\sqrt{n\\_sellers} + \\beta * \\sqrt{n\\_items}$  \n",
    "\n",
    "Olist's data team gave us the following values for these scaling parameters:\n",
    "- $\\alpha = 3157.27$\n",
    "- $\\beta = 978.23$\n",
    "\n",
    "💡 Both the number of sellers to manage and the number of sales transaction are costly for IT systems.  \n",
    "💡 Yet square roots reflect scale-effects: IT-system are often more efficient as they grow bigger.  \n",
    "💡 Alpha > Beta means that Olist has a lower IT Cost with few sellers selling a lot of items rather than the opposite  \n",
    "- with **1000 sellers** and a total of **100 items** sold, the total IT cost accumulates to 109,624 BRL\n",
    "- with **100 sellers** and a total of **1000 items** sold, the total IT cost accumulates to 62,507 BRL\n",
    "\n",
    "Finally, The IT department also told you that since the birth of the marketplace, cumulated IT costs have amounted to **500,000 BRL**.\n",
    "\n",
    "Let's understand that IT cost formula a bit better, by running a simulation. No need to spend time on the code, just look at the resulting charts."
   ]
  },
  {
   "cell_type": "code",
   "execution_count": null,
   "metadata": {},
   "outputs": [],
   "source": [
    "import matplotlib.pyplot as plt\n",
    "import numpy as np\n",
    "import pandas as pd\n",
    "\n",
    "alpha = 3157.27\n",
    "beta = 978.23\n",
    "\n",
    "x_sellers = np.arange(3_000)\n",
    "y_it_costs_sellers = alpha * x_sellers ** 0.5\n",
    "\n",
    "x_items = np.arange(100_000)\n",
    "y_it_costs_items = beta * x_items ** 0.5\n",
    "\n",
    "plt.figure(figsize=(10, 4))\n",
    "plt.subplot(1, 2, 1)\n",
    "plt.plot(x_sellers, y_it_costs_sellers, label='IT costs per seller', color='blue')\n",
    "plt.title('IT Costs vs. Number of Sellers')\n",
    "plt.subplot(1, 2, 2)\n",
    "plt.plot(x_items, y_it_costs_items, label='IT costs per item', color='orange')\n",
    "plt.title('IT Costs vs. Number of Items')\n",
    "plt.suptitle('IT Costs Simulation');"
   ]
  },
  {
   "cell_type": "markdown",
   "metadata": {},
   "source": [
    "### Key Findings, so far"
   ]
  },
  {
   "cell_type": "markdown",
   "metadata": {},
   "source": [
    "- `wait_time` is the most significant factor behind low review scores.  \n",
    "- `wait_time` is made up of seller's `delay_to_carrier` + `carrier_delivery_time`. \n",
    "- Because the carrier's delivery time is out of Olist's direct control, improving it is not a quick-win recommendation.\n",
    "- On the contrary, a better selection of `sellers` can positively impact the `delay_to_carrier` and reduce the number of bad `review_scores` on Olist.\n",
    "- Comments in the bad reviews showed that some were linked to the seller or to the product itself."
   ]
  },
  {
   "cell_type": "markdown",
   "metadata": {},
   "source": [
    "💡 We recommend you to start with the the guided seller analysis in part 2 below.\n",
    "\n",
    "💪 But feel free to investigate into other hypothesis instead with part 3."
   ]
  },
  {
   "cell_type": "markdown",
   "metadata": {},
   "source": [
    "## 2. Should Olist remove under-performing sellers from its marketplace? 🕵🏻\n",
    "*(recommended)*"
   ]
  },
  {
   "cell_type": "markdown",
   "metadata": {},
   "source": [
    "To analyze the impact of removing the worst sellers from Olist's marketplace, we will perform a **what-if analysis**\n",
    "\n",
    "👉 **What would have happened if Olist had never accepted these sellers in the first place?**  \n",
    "\n",
    "*(In practice, it's hard to know in advance who is a good seller, but let's start with this approach and iterate later).*"
   ]
  },
  {
   "cell_type": "markdown",
   "metadata": {},
   "source": [
    "### 2.1 Data Preparation"
   ]
  },
  {
   "cell_type": "markdown",
   "metadata": {},
   "source": [
    "Compute, for each `seller_id`, and cumulated since the beginning:\n",
    "- the `revenues` the seller brings\n",
    "- the `review_costs` associated with the seller's bad reviews\n",
    "- the resulting `profits` (revenues - costs)\n",
    "\n",
    "👉 Write down a step-by-step strategy to create the DataFrame you need.\n",
    "\n",
    "⚠️ **Don't start from scratch, update your existing package!** 😉\n",
    "\n",
    "**The solution to this lies in changing the code in your `.py` files, not in writing new code in your notebook.**\n",
    "\n",
    "Starting from the `Seller` class of your `olist` package:\n",
    "\n",
    "Edit the `get_training_data` method so that the DataFrame it returns contains the fields:\n",
    "- `revenues`: sum of subscription and sales fees revenues\n",
    "- `cost_of_reviews`: sum of costs associated with bad reviews\n",
    "- `profits`: `revenues` - `cost_of_reviews`\n",
    "\n",
    "For `cost_of_reviews` you'll need to change another method first. Which one is related to this?"
   ]
  },
  {
   "cell_type": "markdown",
   "metadata": {},
   "source": [
    "### 2.2 What-if Analysis without IT costs"
   ]
  },
  {
   "cell_type": "markdown",
   "metadata": {},
   "source": [
    "👉 Time to perform the actual analysis. First we'll do it **without** taking into account the IT costs.\n",
    "\n",
    "Here are our steps:  \n",
    "\n",
    "1️⃣ Load the sellers data and sort them by decreasing profits.\n",
    "\n",
    "2️⃣ Calculate cumulative amounts:\n",
    "   - Calculate the cumulative revenues for each row.\n",
    "   - Calculate the cumulative profits for each row.\n",
    "   - Calculate the cumulative quantity of items sold for each row.\n",
    "\n",
    "   Look up how you can calculate cumulative sums with Pandas.\n",
    "\n",
    "3️⃣ Plot your results, and analyze them. Use Pandas' `.plot()` method.\n",
    "\n",
    "4️⃣ Determine the optimum number of sellers to keep, based on profits. (Hint: look up `np.argmax`). What would have been the impact on:\n",
    "   - Net profit (before IT costs because we didn't include those yet)?\n",
    "   - Total revenues?\n",
    "   - Number of sellers?\n",
    "   - Number of items sold?"
   ]
  },
  {
   "cell_type": "code",
   "execution_count": null,
   "metadata": {
    "tags": [
     "challengify"
    ]
   },
   "outputs": [],
   "source": [
    "# YOUR CODE HERE"
   ]
  },
  {
   "cell_type": "markdown",
   "metadata": {},
   "source": [
    "### 2.3 What-if Analysis with IT costs (Optional)"
   ]
  },
  {
   "cell_type": "markdown",
   "metadata": {},
   "source": [
    "👉 Time to perform the actual analysis, this time including IT costs.\n",
    "\n",
    "Here are our steps:  \n",
    "\n",
    "1️⃣ Write a function that will calculate IT costs based on two parameters: number of sellers and number of items. Basically write out the mathematical formula using python.\n",
    "\n",
    "2️⃣ Load the sellers data and sort them by decreasing profits (before IT costs).\n",
    "\n",
    "3️⃣ Calculate cumulative amounts (reuse the code from before):\n",
    "   - Calculate the cumulative revenues for each row.\n",
    "   - Calculate the cumulative profits for each row.\n",
    "   - Calculate the cumulative quantity of items sold for each row.  \n",
    "\n",
    "4️⃣ Calculate the impact of IT costs:\n",
    "   - Using the function you wrote in step 1️⃣, add the cumulative cost of IT for each row.\n",
    "   - Calculate net profit after IT costs.\n",
    "\n",
    "5️⃣ Plot your results, and analyze them.\n",
    "\n",
    "6️⃣ Determine the optimum number of sellers to keep, based on profits after IT costs this time. What would have been the impact on:\n",
    "   - Net profit after IT costs?\n",
    "   - Net profit before IT costs\n",
    "   - IT costs?\n",
    "   - Total revenues?\n",
    "   - Number of sellers?\n",
    "   - Number of items sold?\n",
    "\n",
    "How important were the IT costs in your analysis?"
   ]
  },
  {
   "cell_type": "code",
   "execution_count": null,
   "metadata": {
    "tags": [
     "challengify"
    ]
   },
   "outputs": [],
   "source": [
    "# YOUR CODE HERE"
   ]
  },
  {
   "cell_type": "markdown",
   "metadata": {},
   "source": [
    "## 3. Investigate other Approaches 🕵️\n",
    "*(optional)*"
   ]
  },
  {
   "cell_type": "markdown",
   "metadata": {},
   "source": [
    "- Should Olist remove the worst performing products / categories from its marketplace entirely?\n",
    "- Should Olist remove only consistently underperforming sellers, after a honeymoon period of a few months?\n",
    "- Should Olist enforce sellers to include certain information on their product listings?\n",
    "- Should Olist ask customers for purchase confirmation at certain times of day?\n",
    "- Should Olist restrict seller/customer pairs between certain states to avoid delays?\n",
    "- Should Olist acquire new sellers, with some cost assumptions to be suggested?\n",
    "- ...\n"
   ]
  },
  {
   "cell_type": "markdown",
   "metadata": {},
   "source": [
    "## Your turn!"
   ]
  },
  {
   "cell_type": "markdown",
   "metadata": {},
   "source": [
    "🧺 Keep this notebook tidy! \n",
    "\n",
    "🗣 📊 You will present your insights to your favorite TA at the end of this `Communicate` unit 💪"
   ]
  }
 ],
 "metadata": {
  "kernelspec": {
   "display_name": "Python 3",
   "language": "python",
   "name": "python3"
  }
 },
 "nbformat": 4,
 "nbformat_minor": 4
}
